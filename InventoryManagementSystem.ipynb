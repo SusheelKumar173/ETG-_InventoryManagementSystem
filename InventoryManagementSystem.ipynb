{
  "nbformat": 4,
  "nbformat_minor": 0,
  "metadata": {
    "colab": {
      "name": "InventoryManagementSystem.ipynb",
      "provenance": []
    },
    "kernelspec": {
      "name": "python3",
      "display_name": "Python 3"
    },
    "language_info": {
      "name": "python"
    }
  },
  "cells": [
    {
      "cell_type": "markdown",
      "metadata": {
        "id": "g7fatDQzBMmQ"
      },
      "source": [
        "**My Inventory**"
      ]
    },
    {
      "cell_type": "code",
      "metadata": {
        "id": "DqCyPplB-LP6"
      },
      "source": [
        "record= {100:{\"name\":\"Perk\",\"price\":5,\"quantity\":20,\"weight\":20,'isAvailable':1,\"manufacture_date\":\"Best Before 3 months\",\"expiry\":\"2021/11/02\",\"type\":\"chocolate\"},\n",
        "      101:{\"name\":\"Kitkat\",\"price\":5,\"quantity\":20,\"weight\":10,\"manufacture_date\":\"Best Before 3 months\",\"expiry\":\"2021/11/03\",\"type\":\"chocolate\"},\n",
        "      102:{\"name\":\"5star\",\"price\":5,\"quantity\":20,\"weight\":15,\"manufacture_date\":\"Best Before 3 months\",\"expiry\":\"2021/11/04\",\"type\":\"chocolate\"},\n",
        "      103:{\"name\":\"Cadbury\",\"price\":5,\"quantity\":20,\"weight\":20,\"manufacture_date\":\"Best Before 3 months\",\"expiry\":\"2021/11/02\",\"type\":\"chocolate\"},\n",
        "      104:{\"name\":\"munch\",\"price\":10,\"quantity\":20,\"weight\":10,\"manufacture_date\":\"Best Before 3 months\",\"expiry\":\"2021/11/02\",\"type\":\"chocolate\"},\n",
        "      105:{\"name\":\"Mango-Juice\",\"price\":10,\"quantity\":20,\"weight\":20,\"manufacture_date\":\"Best Before 4 months\",\"expiry\":\"2021/11/05\",\"type\":\"drinks\"},\n",
        "      106:{\"name\":\"Fruti\",\"price\":20,\"quantity\":20,\"weight\":50,\"manufacture_date\":\"Best Before 4 months\",\"expiry\":\"2021/11/06\",\"type\":\"drinks\"},\n",
        "      107:{\"name\":\"Fizz\",\"price\":30,\"quantity\":20,\"weight\":50,\"manufacture_date\":\"Best Before 4 months\",\"expiry\":\"2021/11/06\",\"type\":\"drinks\"},\n",
        "      108:{\"name\":\"Nacho\",\"price\":50,\"quantity\":20,\"weight\":20,\"manufacture_date\":\"Best Before 5 months\",\"expiry\":\"2021/11/07\",\"type\":\"snacks\"},\n",
        "      109:{\"name\":\"Sting\",\"price\":5,\"quantity\":20,\"weight\":20,\"manufacture_date\":\"Best Before 4 months\",\"expiry\":\"2021/11/06\",\"type\":\"drinks\"},\n",
        "      110:{\"name\":\"bingo\",\"price\":5,\"quantity\":20,\"weight\":20,\"manufacture_date\":\"Best Before 5 months\",\"expiry\":\"2021/11/07\",\"type\":\"snacks\"},\n",
        "      111:{\"name\":\"fruti\",\"price\":5,\"quantity\":20,\"weight\":10,\"manufacture_date\":\"Best Before 4 months\",\"expiry\":\"2021/11/06\",\"type\":\"drinks\"},\n",
        "      112:{\"name\":\"Mountain Dew\",\"price\":25,\"quantity\":20,\"weight\":20,\"manufacture_date\":\"Best Before 4 months\",\"expiry\":\"2021/11/06\",\"type\":\"drinks\"},\n",
        "      113:{\"name\":\"Oreo\",\"price\":15,\"quantity\":20,\"weight\":20,\"manufacture_date\":\"Best Before 6 months\",\"expiry\":\"2021/11/16\",\"type\":\"biscuits\"},\n",
        "      114:{\"name\":\"Cocacola\",\"price\":20,\"quantity\":20,\"weight\":200,\"manufacture_date\":\"Best Before 4 months\",\"expiry\":\"2021/11/16\",\"type\":\"drinks\"},\n",
        "      115:{\"name\":\"Parle-G\",\"price\":5,\"quantity\":20,\"weight\":20,\"manufacture_date\":\"Best Before 6 months\",\"expiry\":\"2021/11/06\",\"type\":\"biscuits\"},\n",
        "      116:{\"name\":\"mari-gold\",\"price\":5,\"quantity\":20,\"weight\":50,\"manufacture_date\":\"Best Before 6 months\",\"expiry\":\"2021/11/20\",\"type\":\"biscuits\"},\n",
        "      117:{\"name\":\"Dark Chocolate\",\"price\":30,\"quantity\":20,\"weight\":20,\"manufacture_date\":\"Best Before 6 months\",\"expiry\":\"2021/11/16\",\"type\":\"chocolate\"},\n",
        "      118:{\"name\":\"Amul choco Drink\",\"price\":100,\"quantity\":20,\"weight\":100,\"manufacture_date\":\"Best Before 4 months\",\"expiry\":\"2021/11/20\",\"type\":\"drinks\"},\n",
        "      119:{\"name\":\"Mirinda\",\"price\":12,\"quantity\":20,\"weight\":20,\"manufacture_date\":\"Best Before 4 months\",\"expiry\":\"2021/11/26\",\"type\":\"drinks\"},\n",
        "      120:{\"name\":\"Maggi Noodles\",\"price\":18,\"quantity\":20,\"weight\":20,\"manufacture_date\":\"Best Before 7 months\",\"expiry\":\"2021/11/27\",\"type\":\"noodles\"},\n",
        "      121:{\"name\":\"Lays\",\"price\":10,\"quantity\":20,\"weight\":20,\"manufacture_date\":\"Best Before 5 months\",\"expiry\":\"2021/11/27\",\"type\":\"snacks\"},\n",
        "      122:{\"name\":\"Yipee Noodles\",\"price\":25,\"quantity\":20,\"weight\":25,\"manufacture_date\":\"Best Before 7 months\",\"expiry\":\"2021/11/17\",\"type\":\"noodles\"},\n",
        "      123:{\"name\":\"Chatpat Wheels\",\"price\":5,\"quantity\":20,\"weight\":30,\"manufacture_date\":\"Best Before 5 months\",\"expiry\":\"2021/11/07\",\"type\":\"snacks\"},\n",
        "      124:{\"name\":\"Peanuts\",\"price\":500,\"quantity\":20,\"weight\":250,\"manufacture_date\":\"Best Before 5 months\",\"expiry\":\"2021/11/30\",\"type\":\"nuts\"},\n",
        "      125:{\"name\":\"Sneakers\",\"price\":10,\"quantity\":20,\"weight\":10,\"manufacture_date\":\"Best Before 6 months\",\"expiry\":\"2021/11/06\",\"type\":\"chocolate\"},\n",
        "      126:{\"name\":\"Dairy Milk silk\",\"price\":100,\"quantity\":20,\"weight\":50,\"manufacture_date\":\"Best Before 6 months\",\"expiry\":\"2021/11/26\",\"type\":\"chocolate\"},\n",
        "      127:{\"name\":\"Milkybar\",\"price\":5,\"quantity\":20,\"weight\":10,\"manufacture_date\":\"Best Before 6 months\",\"expiry\":\"2021/11/17\",\"type\":\"chocolate\"},\n",
        "      128:{\"name\":\"Lassi\",\"price\":20,\"quantity\":20,\"weight\":300,\"manufacture_date\":\"Best Before 4 months\",\"expiry\":\"2021/11/16\",\"type\":\"drinks\"},\n",
        "      129:{\"name\":\"Red Bull\",\"price\":120,\"quantity\":20,\"weight\":200,\"manufacture_date\":\"Best Before 4 months\",\"expiry\":\"2021/11/16\",\"type\":\"drinks\"},\n",
        "      130:{\"name\":\"Engage\",\"Quantity\":20,\"Price\":189,\"manufacture_date\":\"Best before 9 months\",\"expiry\":\"2022/10/23\",\"type\":\"perfume\"},\n",
        "      131:{\"name\":\"Acqua Di Gio\",\"quantity\":20,\"price\":5500,\"weight\":900,\"manufacturer_date\":\"Best before 8 months\",\"expiry\":\"2022/12/13\",\"type\":\"perfume\"},\n",
        "      132:{\"name\":\"Jean Paul Gaultier\",\"quantity\":10,\"price\":5000,\"weight\":850,\"manufacturer_date\":\"Best before 8 months\",\"expiry\":\"2022/12/13\",\"type\":\"perfume\"},\n",
        "      133:{\"name\":\"Badam(400gm)\",\"quantity\":240,\"price\":409,\"weight\":400,\"manufacturer_date\":\"Best before 10 months\",\"expiry\":\"2021/11/23\",\"type\":\"dry fruits\"},\n",
        "      134:{\"name\":\"Khajoor(400gm)\",\"quantity\":240,\"price\":409,\"weight\":400,\"manufacturer_date\":\"Best before 10 months\",\"expiry\":\"2021/11/23\",\"type\":\"dry fruits\"},\n",
        "      135:{\"name\":\"Dates(400gm)\",\"quantity\":240,\"price\":409,\"weight\":400,\"manufacturer_date\":\"Best before 10 months\",\"expiry\":\"2021/11/23\",\"type\":\"dry fruits\"},\n",
        "      126:{\"name\":\"Pista(200gm)\",\"quantity\":240,\"Price\":400,\"weight\":200,\"manufacturer_date\":\"Best before 10 months\",\"expiry\":\"2021/11/25\",\"type\":\"dry fruits\"},\n",
        "      137:{\"name\":\"Almonds(345gm)\",\"quantity\":240,\"price\":700,\"weight\":345,\"manufacturer_date\":\"Best before 10 months\",\"expiry\":\"2021/11/27\",\"type\":\"dry fruits\"},\n",
        "      138:{\"name\":\"Sprit\",\"quantity\":50,\"price\":40,\"weight\":1.5,\"manufacturer_date\":\"Best before 7 months\",\"expiry\":\"2021/11/30\",\"type\":\"drinks\"},\n",
        "      139:{\"name\":\"Pepsi\",\"quantity\":50,\"price\":40,\"weight\":2,\"manufacturer_date\":\"Best before 4 months\",\"expiry\":\"2021/12/01\",\"type\":\"drinks\"},\n",
        "      }"
      ],
      "execution_count": 71,
      "outputs": []
    },
    {
      "cell_type": "markdown",
      "metadata": {
        "id": "ln6F2r4HBr8W"
      },
      "source": [
        "**Creating product.json and dumping all the record into it. \n",
        "Adding records into product file**"
      ]
    },
    {
      "cell_type": "code",
      "metadata": {
        "id": "1UfkJVZs-NRw"
      },
      "source": [
        "import json\n",
        "js=json.dumps(record)\n",
        "x=open(\"product.json\",'w')\n",
        "x.write(js)\n",
        "x.close()\n",
        "x=open(\"product.json\",'r')\n",
        "txt=x.read()\n",
        "x.close()\n",
        "record2=json.loads(txt)\n"
      ],
      "execution_count": 72,
      "outputs": []
    },
    {
      "cell_type": "code",
      "metadata": {
        "colab": {
          "base_uri": "https://localhost:8080/"
        },
        "id": "BbPmyuE2MuFp",
        "outputId": "6d4eac65-5550-4ad1-be61-99b9df8a7ca8"
      },
      "source": [
        "# Displaying the Type Of Items in my Cart\n",
        "\n",
        "print(\"Welcome to Prabhas Inventory\")\n",
        "print(\"======= == ======= =========\")\n",
        "print()\n",
        "print(\"We have\")\n",
        "print(\"1.Snacks\\n2.Drinks\\n3.Chocolates\\n4.Noodles\\n5.Nuts\\n6.Mens Perfume\\n7.Womens Perfume\\n8.Dry Fruits\\n9.Biscuits\")\n",
        "print()"
      ],
      "execution_count": 73,
      "outputs": [
        {
          "output_type": "stream",
          "name": "stdout",
          "text": [
            "Welcome to Prabhas Inventory\n",
            "======= == ======= =========\n",
            "\n",
            "We have\n",
            "1.Snacks\n",
            "2.Drinks\n",
            "3.Chocolates\n",
            "4.Noodles\n",
            "5.Nuts\n",
            "6.Mens Perfume\n",
            "7.Womens Perfume\n",
            "8.Dry Fruits\n",
            "9.Biscuits\n",
            "\n"
          ]
        }
      ]
    },
    {
      "cell_type": "markdown",
      "metadata": {
        "id": "JsKTnth4Comy"
      },
      "source": [
        "**1.Generating Bill for the customer purchase and creating a file for Sales**\n",
        "\n",
        "**2.Updating product file after product is sold**"
      ]
    },
    {
      "cell_type": "code",
      "metadata": {
        "colab": {
          "base_uri": "https://localhost:8080/"
        },
        "id": "x8Jx_eiP-WZM",
        "outputId": "1b735e53-5cee-4a69-d725-76ad3984b1e0"
      },
      "source": [
        "import time\n",
        "#getting products info from product file !!\n",
        "x=open(\"product.json\",'r')\n",
        "txt=x.read()\n",
        "x.close()\n",
        "list2=json.loads(txt)\n",
        "\n",
        "\n",
        "#Creating bill for product purchase !!\n",
        "n=input(\"Enter the Product id          :   \")\n",
        "m=int(input(\"Enter the Quantity        :   \"))\n",
        "user = input(\"Enter Customer Name      :   \")\n",
        "phone = input(\"Enter Phone Number      :   \")\n",
        "\n",
        "if n in record2:\n",
        "  product =record2[n]\n",
        "  if m<=product[\"quantity\"]:\n",
        "\n",
        "        print()\n",
        "        print(\"Adipurush Inventory Store\")\n",
        "        print(\"========= ========= =====\")\n",
        "        print()\n",
        "        print(\"Customer Name             :\",user)\n",
        "        print(\"Phone Number              :\",phone)\n",
        "        print(\"Product Name              :\",product[\"name\"])\n",
        "        print(\"Price per piece in rupees :\",product['price'])\n",
        "        print(\"***********************************************\")\n",
        "        print(\"Bill amount in rupees is  :\",product['price']*m)\n",
        "        print(\"Weight of products        :\",product['weight']*m,\"mg\")\n",
        "        print()\n",
        "        current_time=time.ctime()\n",
        "        print(current_time)\n",
        "        print(\"***********************************************\")\n",
        "        print(\"Thank you for shopping! visit again \")\n",
        "        #product_remain=product['quantity']-m\n",
        "\n",
        "  else:\n",
        "      print(\"sorry for inconvenience but we have limited stock\")\n",
        "      m=0\n",
        "else:\n",
        "  print(\"product not found\")\n",
        "  m=0\n",
        "#remaining quantity of product \n",
        "product_remain=product['quantity']-m\n",
        "record2[n][\"quantity\"]=product_remain\n",
        "\n",
        "#adding sold products info into sold file\n",
        "sold_list={n:{'Product Name':product[\"name\"],'Quantity Sold':m,'Amount':product['price']*m}}\n",
        "se=json.dumps(sold_list)\n",
        "x=open(\"sales.json\",'a')\n",
        "x.write(se)\n",
        "x.close()\n",
        "#updating product file after product is sold\n",
        "js=json.dumps(record2)\n",
        "x=open(\"product.json\",'w')\n",
        "x.write(js)\n",
        "x.close()"
      ],
      "execution_count": 74,
      "outputs": [
        {
          "output_type": "stream",
          "name": "stdout",
          "text": [
            "Enter the Product id          :   102\n",
            "Enter the Quantity        :   10\n",
            "Enter Customer Name      :   Prabhas\n",
            "Enter Phone Number      :   123456789\n",
            "\n",
            "Adipurush Inventory Store\n",
            "========= ========= =====\n",
            "\n",
            "Customer Name             : Prabhas\n",
            "Phone Number              : 123456789\n",
            "Product Name              : 5star\n",
            "Price per piece in rupees : 5\n",
            "***********************************************\n",
            "Bill amount in rupees is  : 50\n",
            "Weight of products        : 150 mg\n",
            "\n",
            "Mon Sep  6 13:40:12 2021\n",
            "***********************************************\n",
            "Thank you for shopping! visit again \n"
          ]
        }
      ]
    },
    {
      "cell_type": "markdown",
      "metadata": {
        "id": "u9BmhykTCmiR"
      },
      "source": [
        "**Updating Existing Products and also updating in product file,also adding new Products into the inventory**"
      ]
    },
    {
      "cell_type": "code",
      "metadata": {
        "colab": {
          "base_uri": "https://localhost:8080/"
        },
        "id": "JAk4mE2r-zLe",
        "outputId": "a0b4094d-5b17-492c-baf4-6c1e3f673e36"
      },
      "source": [
        "x=open(\"product.json\",'r')\n",
        "txt=x.read()\n",
        "x.close()\n",
        "record3=json.loads(txt)\n",
        "\n",
        "#updating products in record\n",
        "\n",
        "n=input(\"Enter the Product id      :\")\n",
        "if n in record3:\n",
        "  m=int(input(\"Enter the Quantity        :\"))\n",
        "  k=record3[n]['quantity']+m\n",
        "  record3[n]['quantity']=k\n",
        "\n",
        "else:\n",
        "  p=input(\"Enter Product Name           :  \")\n",
        "  m=int(input(\"Enter the Quantity       :  \"))\n",
        "  o=int(input(\"Enter Price              :  \"))\n",
        "  w=float(input(\"Enter weight           :  \"))\n",
        "  m=input(\"Enter Manufacturer Date      :  \")\n",
        "  e=input(\"Enter Expiry date            :  \")\n",
        "  t=input(\"Enter Type                   :  \")\n",
        "  \n",
        "  record3[n]={'name':p,'price per piece':o,'quantity':m,'weight':w,'manufacturer_date':m,'expiry':e,'type':t}\n",
        "\n",
        "#updating products in product file\n",
        "\n",
        "ne=json.dumps(record3)\n",
        "x=open(\"product.json\",'w')\n",
        "x.write(ne)\n",
        "x.close()\n",
        "print(\"product added \") #Product Added into Inventory\n"
      ],
      "execution_count": 75,
      "outputs": [
        {
          "output_type": "stream",
          "name": "stdout",
          "text": [
            "Enter the Product id      :140\n",
            "Enter Product Name           :  Pen\n",
            "Enter the Quantity       :  10\n",
            "Enter Price              :  10\n",
            "Enter weight           :  10\n",
            "Enter Manufacturer Date      :  Best Before 10 days\n",
            "Enter Expiry date            :  2021/12/12\n",
            "Enter Type                   :  Stationary\n",
            "product added \n"
          ]
        }
      ]
    },
    {
      "cell_type": "markdown",
      "metadata": {
        "id": "Cg86Nr-cIMyc"
      },
      "source": [
        "**The below code shows the updated product quantity and also shows if new product is stored in the inventory**"
      ]
    },
    {
      "cell_type": "code",
      "metadata": {
        "colab": {
          "base_uri": "https://localhost:8080/"
        },
        "id": "PsZiRFBN_kTY",
        "outputId": "a7953bc3-b1fa-4424-a30f-cbcf1ab78a33"
      },
      "source": [
        "x=open(\"product.json\",'r')\n",
        "txt=x.read()\n",
        "x.close()\n",
        "print(txt) "
      ],
      "execution_count": 76,
      "outputs": [
        {
          "output_type": "stream",
          "name": "stdout",
          "text": [
            "{\"100\": {\"name\": \"Perk\", \"price\": 5, \"quantity\": 20, \"weight\": 20, \"isAvailable\": 1, \"manufacture_date\": \"Best Before 3 months\", \"expiry\": \"2021/11/02\", \"type\": \"chocolate\"}, \"101\": {\"name\": \"Kitkat\", \"price\": 5, \"quantity\": 20, \"weight\": 10, \"manufacture_date\": \"Best Before 3 months\", \"expiry\": \"2021/11/03\", \"type\": \"chocolate\"}, \"102\": {\"name\": \"5star\", \"price\": 5, \"quantity\": 10, \"weight\": 15, \"manufacture_date\": \"Best Before 3 months\", \"expiry\": \"2021/11/04\", \"type\": \"chocolate\"}, \"103\": {\"name\": \"Cadbury\", \"price\": 5, \"quantity\": 20, \"weight\": 20, \"manufacture_date\": \"Best Before 3 months\", \"expiry\": \"2021/11/02\", \"type\": \"chocolate\"}, \"104\": {\"name\": \"munch\", \"price\": 10, \"quantity\": 20, \"weight\": 10, \"manufacture_date\": \"Best Before 3 months\", \"expiry\": \"2021/11/02\", \"type\": \"chocolate\"}, \"105\": {\"name\": \"Mango-Juice\", \"price\": 10, \"quantity\": 20, \"weight\": 20, \"manufacture_date\": \"Best Before 4 months\", \"expiry\": \"2021/11/05\", \"type\": \"drinks\"}, \"106\": {\"name\": \"Fruti\", \"price\": 20, \"quantity\": 20, \"weight\": 50, \"manufacture_date\": \"Best Before 4 months\", \"expiry\": \"2021/11/06\", \"type\": \"drinks\"}, \"107\": {\"name\": \"Fizz\", \"price\": 30, \"quantity\": 20, \"weight\": 50, \"manufacture_date\": \"Best Before 4 months\", \"expiry\": \"2021/11/06\", \"type\": \"drinks\"}, \"108\": {\"name\": \"Nacho\", \"price\": 50, \"quantity\": 20, \"weight\": 20, \"manufacture_date\": \"Best Before 5 months\", \"expiry\": \"2021/11/07\", \"type\": \"snacks\"}, \"109\": {\"name\": \"Sting\", \"price\": 5, \"quantity\": 20, \"weight\": 20, \"manufacture_date\": \"Best Before 4 months\", \"expiry\": \"2021/11/06\", \"type\": \"drinks\"}, \"110\": {\"name\": \"bingo\", \"price\": 5, \"quantity\": 20, \"weight\": 20, \"manufacture_date\": \"Best Before 5 months\", \"expiry\": \"2021/11/07\", \"type\": \"snacks\"}, \"111\": {\"name\": \"fruti\", \"price\": 5, \"quantity\": 20, \"weight\": 10, \"manufacture_date\": \"Best Before 4 months\", \"expiry\": \"2021/11/06\", \"type\": \"drinks\"}, \"112\": {\"name\": \"Mountain Dew\", \"price\": 25, \"quantity\": 20, \"weight\": 20, \"manufacture_date\": \"Best Before 4 months\", \"expiry\": \"2021/11/06\", \"type\": \"drinks\"}, \"113\": {\"name\": \"Oreo\", \"price\": 15, \"quantity\": 20, \"weight\": 20, \"manufacture_date\": \"Best Before 6 months\", \"expiry\": \"2021/11/16\", \"type\": \"biscuits\"}, \"114\": {\"name\": \"Cocacola\", \"price\": 20, \"quantity\": 20, \"weight\": 200, \"manufacture_date\": \"Best Before 4 months\", \"expiry\": \"2021/11/16\", \"type\": \"drinks\"}, \"115\": {\"name\": \"Parle-G\", \"price\": 5, \"quantity\": 20, \"weight\": 20, \"manufacture_date\": \"Best Before 6 months\", \"expiry\": \"2021/11/06\", \"type\": \"biscuits\"}, \"116\": {\"name\": \"mari-gold\", \"price\": 5, \"quantity\": 20, \"weight\": 50, \"manufacture_date\": \"Best Before 6 months\", \"expiry\": \"2021/11/20\", \"type\": \"biscuits\"}, \"117\": {\"name\": \"Dark Chocolate\", \"price\": 30, \"quantity\": 20, \"weight\": 20, \"manufacture_date\": \"Best Before 6 months\", \"expiry\": \"2021/11/16\", \"type\": \"chocolate\"}, \"118\": {\"name\": \"Amul choco Drink\", \"price\": 100, \"quantity\": 20, \"weight\": 100, \"manufacture_date\": \"Best Before 4 months\", \"expiry\": \"2021/11/20\", \"type\": \"drinks\"}, \"119\": {\"name\": \"Mirinda\", \"price\": 12, \"quantity\": 20, \"weight\": 20, \"manufacture_date\": \"Best Before 4 months\", \"expiry\": \"2021/11/26\", \"type\": \"drinks\"}, \"120\": {\"name\": \"Maggi Noodles\", \"price\": 18, \"quantity\": 20, \"weight\": 20, \"manufacture_date\": \"Best Before 7 months\", \"expiry\": \"2021/11/27\", \"type\": \"noodles\"}, \"121\": {\"name\": \"Lays\", \"price\": 10, \"quantity\": 20, \"weight\": 20, \"manufacture_date\": \"Best Before 5 months\", \"expiry\": \"2021/11/27\", \"type\": \"snacks\"}, \"122\": {\"name\": \"Yipee Noodles\", \"price\": 25, \"quantity\": 20, \"weight\": 25, \"manufacture_date\": \"Best Before 7 months\", \"expiry\": \"2021/11/17\", \"type\": \"noodles\"}, \"123\": {\"name\": \"Chatpat Wheels\", \"price\": 5, \"quantity\": 20, \"weight\": 30, \"manufacture_date\": \"Best Before 5 months\", \"expiry\": \"2021/11/07\", \"type\": \"snacks\"}, \"124\": {\"name\": \"Peanuts\", \"price\": 500, \"quantity\": 20, \"weight\": 250, \"manufacture_date\": \"Best Before 5 months\", \"expiry\": \"2021/11/30\", \"type\": \"nuts\"}, \"125\": {\"name\": \"Sneakers\", \"price\": 10, \"quantity\": 20, \"weight\": 10, \"manufacture_date\": \"Best Before 6 months\", \"expiry\": \"2021/11/06\", \"type\": \"chocolate\"}, \"126\": {\"name\": \"Pista(200gm)\", \"quantity\": 240, \"Price\": 400, \"weight\": 200, \"manufacturer_date\": \"Best before 10 months\", \"expiry\": \"2021/11/25\", \"type\": \"dry fruits\"}, \"127\": {\"name\": \"Milkybar\", \"price\": 5, \"quantity\": 20, \"weight\": 10, \"manufacture_date\": \"Best Before 6 months\", \"expiry\": \"2021/11/17\", \"type\": \"chocolate\"}, \"128\": {\"name\": \"Lassi\", \"price\": 20, \"quantity\": 20, \"weight\": 300, \"manufacture_date\": \"Best Before 4 months\", \"expiry\": \"2021/11/16\", \"type\": \"drinks\"}, \"129\": {\"name\": \"Red Bull\", \"price\": 120, \"quantity\": 20, \"weight\": 200, \"manufacture_date\": \"Best Before 4 months\", \"expiry\": \"2021/11/16\", \"type\": \"drinks\"}, \"130\": {\"name\": \"Engage\", \"Quantity\": 20, \"Price\": 189, \"manufacture_date\": \"Best before 9 months\", \"expiry\": \"2022/10/23\", \"type\": \"perfume\"}, \"131\": {\"name\": \"Acqua Di Gio\", \"quantity\": 20, \"price\": 5500, \"weight\": 900, \"manufacturer_date\": \"Best before 8 months\", \"expiry\": \"2022/12/13\", \"type\": \"perfume\"}, \"132\": {\"name\": \"Jean Paul Gaultier\", \"quantity\": 10, \"price\": 5000, \"weight\": 850, \"manufacturer_date\": \"Best before 8 months\", \"expiry\": \"2022/12/13\", \"type\": \"perfume\"}, \"133\": {\"name\": \"Badam(400gm)\", \"quantity\": 240, \"price\": 409, \"weight\": 400, \"manufacturer_date\": \"Best before 10 months\", \"expiry\": \"2021/11/23\", \"type\": \"dry fruits\"}, \"134\": {\"name\": \"Khajoor(400gm)\", \"quantity\": 240, \"price\": 409, \"weight\": 400, \"manufacturer_date\": \"Best before 10 months\", \"expiry\": \"2021/11/23\", \"type\": \"dry fruits\"}, \"135\": {\"name\": \"Dates(400gm)\", \"quantity\": 240, \"price\": 409, \"weight\": 400, \"manufacturer_date\": \"Best before 10 months\", \"expiry\": \"2021/11/23\", \"type\": \"dry fruits\"}, \"137\": {\"name\": \"Almonds(345gm)\", \"quantity\": 240, \"price\": 700, \"weight\": 345, \"manufacturer_date\": \"Best before 10 months\", \"expiry\": \"2021/11/27\", \"type\": \"dry fruits\"}, \"138\": {\"name\": \"Sprit\", \"quantity\": 50, \"price\": 40, \"weight\": 1.5, \"manufacturer_date\": \"Best before 7 months\", \"expiry\": \"2021/11/30\", \"type\": \"drinks\"}, \"139\": {\"name\": \"Pepsi\", \"quantity\": 50, \"price\": 40, \"weight\": 2, \"manufacturer_date\": \"Best before 4 months\", \"expiry\": \"2021/12/01\", \"type\": \"drinks\"}, \"140\": {\"name\": \"Pen\", \"price per piece\": 10, \"quantity\": \"Best Before 10 days\", \"weight\": 10.0, \"manufacturer_date\": \"Best Before 10 days\", \"expiry\": \"2021/12/12\", \"type\": \"Stationary\"}}\n"
          ]
        }
      ]
    },
    {
      "cell_type": "markdown",
      "metadata": {
        "id": "ojpait1lIks7"
      },
      "source": [
        "**Below code gives the sales record . The Output gives all the sales**"
      ]
    },
    {
      "cell_type": "code",
      "metadata": {
        "colab": {
          "base_uri": "https://localhost:8080/"
        },
        "id": "soeGT_xY_wyX",
        "outputId": "23be621b-0919-4d38-8b0c-486047ba6122"
      },
      "source": [
        "s=open(\"sales.json\",\"r\")\n",
        "fs=s.read()\n",
        "s.close()\n",
        "print(fs)"
      ],
      "execution_count": 77,
      "outputs": [
        {
          "output_type": "stream",
          "name": "stdout",
          "text": [
            "{\"120\": {\"product name\": \"Maggi Noodles\", \"quantity sold\": 5, \"amount\": 90}}{\"107\": {\"product name\": \"Fizz\", \"quantity sold\": 5, \"amount\": 150}}{\"107\": {\"product name\": \"Fizz\", \"quantity sold\": 10, \"amount\": 300}}{\"105\": {\"product name\": \"Mango-Juice\", \"quantity sold\": 10, \"amount\": 100}}{\"107\": {\"Product Name\": \"Fizz\", \"Quantity Sold\": 10, \"Amount\": 300}}{\"102\": {\"Product Name\": \"5star\", \"Quantity Sold\": 10, \"Amount\": 50}}\n"
          ]
        }
      ]
    },
    {
      "cell_type": "code",
      "metadata": {
        "colab": {
          "base_uri": "https://localhost:8080/"
        },
        "id": "ukqOtwrDAHJm",
        "outputId": "5691ad9a-d605-45e6-e102-d9a01f69b216"
      },
      "source": [
        "import time\n",
        "print()\n",
        "current_time=time.ctime()\n",
        "print(current_time)"
      ],
      "execution_count": 78,
      "outputs": [
        {
          "output_type": "stream",
          "name": "stdout",
          "text": [
            "\n",
            "Mon Sep  6 13:42:57 2021\n"
          ]
        }
      ]
    },
    {
      "cell_type": "markdown",
      "metadata": {
        "id": "3cQtkN2zWd7p"
      },
      "source": [
        "**1)In the above Code, I have added a new Product(PEN) whose Product_ID is \"140\"and this product is updated in my inventory also.**\n",
        "**2)Customer have purchased product(5star) whose Product_ID is \"102\" and this sales product is added into my sales.json file.**"
      ]
    }
  ]
}